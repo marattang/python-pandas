{
 "cells": [
  {
   "cell_type": "code",
   "execution_count": 2,
   "id": "02c71e71",
   "metadata": {},
   "outputs": [],
   "source": [
    "import pandas as pd\n",
    "import numpy as np\n",
    "import random\n",
    "import string\n",
    "np.random.seed(56)\n",
    "\n",
    "# 22. 다음 객체에서 키값 A와 중복된 값이 제거된 1,2,3,4,5,6,7 이 출력되는 코드를 작성\n",
    "# 23. 다음 객체에서 행의 각 요소에서 행의 평균을 뺀 값을 출력하되 부분집합으로 가로 출력\n",
    "# 24. 다음 객체에서 가장 작은 합계를 가진 숫자열의 열을 출력\n",
    "# 25. 다음 객체에서 중복된 값이 없는 유니크한 열의 카운트 출력(중복되지 않은 행은 몇 개..)\n",
    "# 26. 객체의 각 행에 대해 세번째 NaN 값이 들어 있는 열을 찾으시오. 일련의 열 레이블을 반환해야 합니다.\n",
    "# 27. 다음 객체에서 grps 에서 a, b, c 별로 가장 큰 값을 찾으시오.\n",
    "# 28 다음 객체를 list 로 변환하시오\n",
    "# 29 다음 객체를 dictionary 로 변환하시오\n",
    "# 30 다음 객체를 customer_id 를 인덱스로하고 product_code 를 컬럼으로, purchare_amount 를 값으로, 재구성하시오"
   ]
  },
  {
   "cell_type": "code",
   "execution_count": 18,
   "id": "14942aed",
   "metadata": {},
   "outputs": [
    {
     "name": "stdout",
     "output_type": "stream",
     "text": [
      "    A\n",
      "0   1\n",
      "1   2\n",
      "2   2\n",
      "3   3\n",
      "4   4\n",
      "5   5\n",
      "6   5\n",
      "7   5\n",
      "8   6\n",
      "9   7\n",
      "10  7\n"
     ]
    }
   ],
   "source": [
    "# 22. 다음 객체에서 키값 A와 중복된 값이 제거된 1,2,3,4,5,6,7 이 출력되는 코드를 작성\n",
    "df = pd.DataFrame({'A': [1, 2, 2, 3, 4, 5, 5, 5, 6, 7, 7]})\n",
    "df = df.drop_duplicates(subset='A')\n",
    "print(df)"
   ]
  },
  {
   "cell_type": "code",
   "execution_count": 20,
   "id": "9bd05309",
   "metadata": {},
   "outputs": [
    {
     "name": "stdout",
     "output_type": "stream",
     "text": [
      "          0         1         2\n",
      "0 -0.005350  0.294887 -0.289537\n",
      "1 -0.245169  0.194848  0.050321\n",
      "2  0.456626 -0.220342 -0.236283\n",
      "3 -0.217713  0.017506  0.200207\n",
      "4 -0.164846  0.095777  0.069069\n"
     ]
    }
   ],
   "source": [
    "# 23. 다음 객체에서 행의 각 요소에서 행의 평균을 뺀 값을 출력하되 부분집합으로 가로 출력\n",
    "df = pd.DataFrame(np.random.random(size=(5, 3)))\n",
    "df = df.sub(df.mean(axis=1), axis=0)\n",
    "print(df)\n",
    "# df"
   ]
  },
  {
   "cell_type": "code",
   "execution_count": 22,
   "id": "7b4343f1",
   "metadata": {},
   "outputs": [
    {
     "name": "stdout",
     "output_type": "stream",
     "text": [
      "i\n"
     ]
    }
   ],
   "source": [
    "# 24. 다음 객체에서 가장 작은 합계를 가진 숫자열의 열을 출력\n",
    "df = pd.DataFrame(np.random.random(size=(5, 10)), columns=list('abcdefghij'))\n",
    "df = df.sum().idxmin()\n",
    "print(df)"
   ]
  },
  {
   "cell_type": "code",
   "execution_count": 23,
   "id": "b64e1ac1",
   "metadata": {},
   "outputs": [
    {
     "name": "stdout",
     "output_type": "stream",
     "text": [
      "   0  1  2\n",
      "0  1  1  1\n",
      "1  0  1  1\n",
      "2  0  0  1\n",
      "3  0  1  0\n",
      "4  0  1  1\n",
      "5  0  1  0\n",
      "6  1  1  0\n",
      "7  0  1  1\n",
      "8  0  0  0\n",
      "9  1  1  1\n",
      "   0  1  2\n",
      "2  0  0  1\n",
      "6  1  1  0\n",
      "8  0  0  0\n"
     ]
    }
   ],
   "source": [
    "# 25. 다음 객체에서 중복된 값이 없는 유니크한 열의 카운트 출력(중복되지 않은 행은 몇 개..)\n",
    "df = pd.DataFrame(np.random.randint(0, 2, size=(10, 3)))\n",
    "print(df)\n",
    "# len(df.loc[df.duplicated() != True, :])\n",
    "# len(df) - df.duplicated(keep=False).sum()\n",
    "print(df.drop_duplicates(keep=False))\n",
    "# df.duplicated() == True\n"
   ]
  },
  {
   "cell_type": "code",
   "execution_count": 30,
   "id": "0b1dbf3f",
   "metadata": {},
   "outputs": [
    {
     "name": "stdout",
     "output_type": "stream",
     "text": [
      "0    e\n",
      "1    c\n",
      "2    d\n",
      "3    h\n",
      "4    d\n",
      "dtype: object\n"
     ]
    }
   ],
   "source": [
    "# 26. 객체의 각 행에 대해 세번째 NaN 값이 들어 있는 열을 찾으시오. 일련의 열 레이블을 반환해야 합니다.\n",
    "# 답은 e, c, d, h, d 입니다.\n",
    "nan = np.nan\n",
    "data = [[0.04,  nan,  nan, 0.25,  nan, 0.43, 0.71, 0.51,  nan,  nan],\n",
    "        [ nan,  nan,  nan, 0.04, 0.76,  nan,  nan, 0.67, 0.76, 0.16],\n",
    "        [ nan,  nan, 0.5 ,  nan, 0.31, 0.4 ,  nan,  nan, 0.24, 0.01],\n",
    "        [0.49,  nan,  nan, 0.62, 0.73, 0.26, 0.85,  nan,  nan,  nan],\n",
    "        [ nan,  nan, 0.41,  nan, 0.05,  nan, 0.61,  nan, 0.48, 0.68]]\n",
    "columns = list('abcdefghij')\n",
    "df = pd.DataFrame(data, columns=columns)\n",
    "\n",
    "df = (df.isna().cumsum(axis=1) == 3).idxmax(axis=1)\n",
    "print(df)"
   ]
  },
  {
   "cell_type": "code",
   "execution_count": 32,
   "id": "5c267563",
   "metadata": {},
   "outputs": [
    {
     "name": "stdout",
     "output_type": "stream",
     "text": [
      "<class 'pandas.core.groupby.generic.DataFrameGroupBy'>\n",
      "grps\n",
      "a    345\n",
      "b     57\n",
      "c    235\n",
      "Name: vals, dtype: int64\n"
     ]
    }
   ],
   "source": [
    "# 27. 다음 객체에서 grps 에서 a, b, c 별로 가장 큰 값을 찾으시오.\n",
    "# 출력 결과는 \n",
    "#  grps\n",
    "#   a    409\n",
    "#   b    156\n",
    "#   c    345\n",
    "# 이렇게 나옵니다.\n",
    "df = pd.DataFrame({'grps': list('aaabbcaabcccbbc'), \n",
    "                   'vals': [12,345,3,1,45,14,4,52,54,23,235,21,57,3,87]})\n",
    "print(type(df.groupby('grps')))\n",
    "df = df.groupby('grps')['vals'].max()\n",
    "print(df)"
   ]
  },
  {
   "cell_type": "code",
   "execution_count": 34,
   "id": "d3e6c183",
   "metadata": {},
   "outputs": [
    {
     "name": "stdout",
     "output_type": "stream",
     "text": [
      "<class 'numpy.ndarray'>\n",
      "<class 'list'>\n",
      "[[1, 4], [2, 5], [3, 6]]\n"
     ]
    }
   ],
   "source": [
    "\n",
    "# 28 다음 객체를 list 로 변환하시오\n",
    "df = pd.DataFrame({'A':[1,2,3], 'B':[4,5,6]})\n",
    "arr = df.values\n",
    "print(type(arr))\n",
    "ls = arr.tolist()\n",
    "print(type(ls))\n",
    "print(df.values.tolist())"
   ]
  },
  {
   "cell_type": "code",
   "execution_count": null,
   "id": "9fe8ba6c",
   "metadata": {},
   "outputs": [],
   "source": [
    "# 29 다음 객체를 dictionary 로 변환하시오\n",
    "df = pd.DataFrame({'A':[1,2,3], 'B':[4,5,6]})\n",
    "print(df.to_dict())"
   ]
  },
  {
   "cell_type": "code",
   "execution_count": null,
   "id": "a2ef449f",
   "metadata": {},
   "outputs": [],
   "source": [
    "# 30 다음 객체를 customer_id 를 인덱스로하고 product_code 를 컬럼으로, purchare_amount 를 값으로, 재구성하시오\n",
    "df = pd.DataFrame({\"customer_id\":['kim','lee','park','song','yoon','kang','tak','ryu','jang'],\n",
    "               \"product_code\":['com','phone','tv','com','phone','tv','com','phone','tv'],\n",
    "               \"grade\":['A','A','A','A','A','A','B','B','B'],\n",
    "               \"purchase_amount\":[30,10,0,40,15,30,0,0,10]})\n",
    "df"
   ]
  }
 ],
 "metadata": {
  "kernelspec": {
   "display_name": "Python 3",
   "language": "python",
   "name": "python3"
  },
  "language_info": {
   "codemirror_mode": {
    "name": "ipython",
    "version": 3
   },
   "file_extension": ".py",
   "mimetype": "text/x-python",
   "name": "python",
   "nbconvert_exporter": "python",
   "pygments_lexer": "ipython3",
   "version": "3.8.8"
  }
 },
 "nbformat": 4,
 "nbformat_minor": 5
}